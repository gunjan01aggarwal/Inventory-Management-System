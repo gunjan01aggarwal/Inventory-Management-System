{
 "cells": [
  {
   "cell_type": "code",
   "execution_count": 1,
   "metadata": {},
   "outputs": [],
   "source": [
    "import json"
   ]
  },
  {
   "cell_type": "code",
   "execution_count": 2,
   "metadata": {},
   "outputs": [],
   "source": [
    "file=open(\"Record.json\",\"r\")\n",
    "record=file.read()\n",
    "file.close()"
   ]
  },
  {
   "cell_type": "code",
   "execution_count": 3,
   "metadata": {},
   "outputs": [],
   "source": [
    "records=json.loads(record)\n",
    "#records"
   ]
  },
  {
   "cell_type": "code",
   "execution_count": 4,
   "metadata": {},
   "outputs": [
    {
     "name": "stdin",
     "output_type": "stream",
     "text": [
      "Enter the product id: 1004\n",
      "Enter the Quantity of a product: 5\n"
     ]
    },
    {
     "name": "stdout",
     "output_type": "stream",
     "text": [
      "Name of a Product: Kitkat Chocolate\n",
      "Price of a Product: 20\n",
      "******BILLING AMOUNT******: 100\n"
     ]
    },
    {
     "name": "stdin",
     "output_type": "stream",
     "text": [
      "Enter the product id: 1025\n",
      "Enter the Quantity of a product: 14\n"
     ]
    },
    {
     "name": "stdout",
     "output_type": "stream",
     "text": [
      "Name of a Product: Soda\n",
      "Price of a Product: 35\n",
      "******BILLING AMOUNT******: 490\n"
     ]
    },
    {
     "name": "stdin",
     "output_type": "stream",
     "text": [
      "Enter the product id: 1006\n",
      "Enter the Quantity of a product: 13\n"
     ]
    },
    {
     "name": "stdout",
     "output_type": "stream",
     "text": [
      "Name of a Product: Green Lays\n",
      "Price of a Product: 20\n",
      "******BILLING AMOUNT******: 260\n"
     ]
    },
    {
     "name": "stdin",
     "output_type": "stream",
     "text": [
      "Enter the product id: 1019\n",
      "Enter the Quantity of a product: 8\n"
     ]
    },
    {
     "name": "stdout",
     "output_type": "stream",
     "text": [
      "Name of a Product: SnackLite\n",
      "Price of a Product: 20\n",
      "******BILLING AMOUNT******: 160\n"
     ]
    },
    {
     "name": "stdin",
     "output_type": "stream",
     "text": [
      "Enter the product id: 1031\n",
      "Enter the Quantity of a product: 5\n"
     ]
    },
    {
     "name": "stdout",
     "output_type": "stream",
     "text": [
      "Name of a Product: Dove shampoo\n",
      "Price of a Product: 35\n",
      "******BILLING AMOUNT******: 175\n"
     ]
    },
    {
     "name": "stdin",
     "output_type": "stream",
     "text": [
      "Enter the product id: 1022\n",
      "Enter the Quantity of a product: 7\n"
     ]
    },
    {
     "name": "stdout",
     "output_type": "stream",
     "text": [
      "Name of a Product: Coca Cola\n",
      "Price of a Product: 35\n",
      "******BILLING AMOUNT******: 245\n"
     ]
    },
    {
     "name": "stdin",
     "output_type": "stream",
     "text": [
      "Enter the product id: 1016\n",
      "Enter the Quantity of a product: 8\n"
     ]
    },
    {
     "name": "stdout",
     "output_type": "stream",
     "text": [
      "Name of a Product: Crax\n",
      "Price of a Product: 15\n",
      "******BILLING AMOUNT******: 120\n"
     ]
    },
    {
     "name": "stdin",
     "output_type": "stream",
     "text": [
      "Enter the product id: 1002\n",
      "Enter the Quantity of a product: 4\n"
     ]
    },
    {
     "name": "stdout",
     "output_type": "stream",
     "text": [
      "Name of a Product: Dairy Milk Chocolate\n",
      "Price of a Product: 20\n",
      "******BILLING AMOUNT******: 80\n"
     ]
    },
    {
     "name": "stdin",
     "output_type": "stream",
     "text": [
      "Enter the product id: 1016\n",
      "Enter the Quantity of a product: 2\n"
     ]
    },
    {
     "name": "stdout",
     "output_type": "stream",
     "text": [
      "Name of a Product: Crax\n",
      "Price of a Product: 15\n",
      "******BILLING AMOUNT******: 30\n"
     ]
    },
    {
     "name": "stdin",
     "output_type": "stream",
     "text": [
      "Enter the product id: 1014\n",
      "Enter the Quantity of a product: 12\n"
     ]
    },
    {
     "name": "stdout",
     "output_type": "stream",
     "text": [
      "Name of a Product: Aloo bujiya Namkeen\n",
      "Price of a Product: 10\n",
      "******BILLING AMOUNT******: 120\n",
      "****TOTAL AMOUNT*******: 1780\n",
      "******CONGRATS******\n",
      "#####You won a coupon.You can use it at any time in our store while purchasing items and take benefits of it.#####\n"
     ]
    }
   ],
   "source": [
    "# Purchase ten Items and return final amount from a store.\n",
    "l=[]\n",
    "Sales={}\n",
    "for i in range(1,11):\n",
    "    ui_prod=input(\"Enter the product id:\")\n",
    "    ui_quant=int(input(\"Enter the Quantity of a product:\"))\n",
    "    if ui_quant < int(records[ui_prod]['Qty']):\n",
    "        print(\"Name of a Product:\",records[ui_prod][\"name\"])\n",
    "        print(\"Price of a Product:\",records[ui_prod][\"Unit_Price\"])\n",
    "        Amount=int(records[ui_prod][\"Unit_Price\"])* ui_quant\n",
    "        print(\"******BILLING AMOUNT******:\",Amount)\n",
    "        l.append(Amount)\n",
    "        Sales[i]={'prod' : ui_prod, 'Qty' : ui_quant,'name':records[ui_prod]['name'], 'amount':Amount,\n",
    "                  'manufacturing_date':records[ui_prod][\"Manufacturing_date\"],'expiring_date':\n",
    "                  records[ui_prod][\"Expiring_date\"]}\n",
    "        records[ui_prod]['Qty'] = int(records[ui_prod]['Qty']) - ui_quant\n",
    "       \n",
    "    else:\n",
    "        print(\"****SORRY! WE CAN'T PROVIDE AS MUCH QUANTITY AS YOU WANT*********\")\n",
    "print(\"****TOTAL AMOUNT*******:\",sum(l))\n",
    "total=sum(l)\n",
    "if total>=1000:#final amount is more than 1000. we provide some coupons.\n",
    "    print(\"******CONGRATS******\")\n",
    "    print(\"#####You won a coupon.You can use it at any time in our store while purchasing items and take benefits of it.#####\")\n",
    "    "
   ]
  },
  {
   "cell_type": "code",
   "execution_count": 5,
   "metadata": {},
   "outputs": [],
   "source": [
    "#UPDATE INVENTORY AFTER PURCHASE"
   ]
  },
  {
   "cell_type": "code",
   "execution_count": 6,
   "metadata": {},
   "outputs": [],
   "source": [
    "js = json.dumps(records)\n",
    "\n",
    "fd = open(\"record.json\",'w')\n",
    "fd.write(js)\n",
    "fd.close()"
   ]
  },
  {
   "cell_type": "markdown",
   "metadata": {},
   "source": [
    "#SALES Json"
   ]
  },
  {
   "cell_type": "code",
   "execution_count": 7,
   "metadata": {},
   "outputs": [
    {
     "data": {
      "text/plain": [
       "{1: {'prod': '1004',\n",
       "  'Qty': 5,\n",
       "  'name': 'Kitkat Chocolate',\n",
       "  'amount': 100,\n",
       "  'manufacturing_date': '2/5/2021',\n",
       "  'expiring_date': '1/6/2022'},\n",
       " 2: {'prod': '1025',\n",
       "  'Qty': 14,\n",
       "  'name': 'Soda',\n",
       "  'amount': 490,\n",
       "  'manufacturing_date': '4/5/2021',\n",
       "  'expiring_date': '5/9/2023'},\n",
       " 3: {'prod': '1006',\n",
       "  'Qty': 13,\n",
       "  'name': 'Green Lays',\n",
       "  'amount': 260,\n",
       "  'manufacturing_date': '2/7/2021',\n",
       "  'expiring_date': '1/5/2023'},\n",
       " 4: {'prod': '1019',\n",
       "  'Qty': 8,\n",
       "  'name': 'SnackLite',\n",
       "  'amount': 160,\n",
       "  'manufacturing_date': '20/5/2021',\n",
       "  'expiring_date': '1/7/2023'},\n",
       " 5: {'prod': '1031',\n",
       "  'Qty': 5,\n",
       "  'name': 'Dove shampoo',\n",
       "  'amount': 175,\n",
       "  'manufacturing_date': '4/8/2021',\n",
       "  'expiring_date': '6/6/2023'},\n",
       " 6: {'prod': '1022',\n",
       "  'Qty': 7,\n",
       "  'name': 'Coca Cola',\n",
       "  'amount': 245,\n",
       "  'manufacturing_date': '4/8/2021',\n",
       "  'expiring_date': '9/10/2023'},\n",
       " 7: {'prod': '1016',\n",
       "  'Qty': 8,\n",
       "  'name': 'Crax',\n",
       "  'amount': 120,\n",
       "  'manufacturing_date': '20/5/2021',\n",
       "  'expiring_date': '1/4/2023'},\n",
       " 8: {'prod': '1002',\n",
       "  'Qty': 4,\n",
       "  'name': 'Dairy Milk Chocolate',\n",
       "  'amount': 80,\n",
       "  'manufacturing_date': '20/5/2021',\n",
       "  'expiring_date': '1/6/2022'},\n",
       " 9: {'prod': '1016',\n",
       "  'Qty': 2,\n",
       "  'name': 'Crax',\n",
       "  'amount': 30,\n",
       "  'manufacturing_date': '20/5/2021',\n",
       "  'expiring_date': '1/4/2023'},\n",
       " 10: {'prod': '1014',\n",
       "  'Qty': 12,\n",
       "  'name': 'Aloo bujiya Namkeen',\n",
       "  'amount': 120,\n",
       "  'manufacturing_date': '3/5/2021',\n",
       "  'expiring_date': '1/8/2023'}}"
      ]
     },
     "execution_count": 7,
     "metadata": {},
     "output_type": "execute_result"
    }
   ],
   "source": [
    "Sales\n"
   ]
  },
  {
   "cell_type": "code",
   "execution_count": 8,
   "metadata": {},
   "outputs": [],
   "source": [
    "sales=json.dumps(Sales)\n",
    "fd=open(\"Sales.json\",\"w\")\n",
    "fd.write(sales)\n",
    "fd.close()"
   ]
  },
  {
   "cell_type": "code",
   "execution_count": null,
   "metadata": {},
   "outputs": [],
   "source": []
  }
 ],
 "metadata": {
  "kernelspec": {
   "display_name": "Python 3",
   "language": "python",
   "name": "python3"
  },
  "language_info": {
   "codemirror_mode": {
    "name": "ipython",
    "version": 3
   },
   "file_extension": ".py",
   "mimetype": "text/x-python",
   "name": "python",
   "nbconvert_exporter": "python",
   "pygments_lexer": "ipython3",
   "version": "3.7.4"
  }
 },
 "nbformat": 4,
 "nbformat_minor": 4
}
